{
 "cells": [
  {
   "cell_type": "code",
   "execution_count": 1,
   "metadata": {},
   "outputs": [],
   "source": [
    "#импорт библиотек\n",
    "import numpy as np\n",
    "import pandas as pd\n",
    "import matplotlib.pyplot as plt\n",
    "\n",
    "from sklearn import linear_model\n",
    "from sklearn import ensemble\n",
    "# from sklearn import metrics\n",
    "from sklearn.metrics import f1_score\n",
    "from sklearn.model_selection import train_test_split, GridSearchCV, RandomizedSearchCV, cross_val_score\n",
    "\n",
    "import hyperopt\n",
    "from hyperopt import hp, fmin, tpe, Trials\n",
    "\n",
    "import optuna\n",
    "\n",
    "import warnings\n",
    "\n",
    "%matplotlib inline\n",
    "plt.style.use('seaborn')"
   ]
  },
  {
   "cell_type": "markdown",
   "metadata": {},
   "source": [
    "# Загрузка данных"
   ]
  },
  {
   "cell_type": "code",
   "execution_count": 2,
   "metadata": {
    "tags": []
   },
   "outputs": [
    {
     "data": {
      "text/html": [
       "<div>\n",
       "<style scoped>\n",
       "    .dataframe tbody tr th:only-of-type {\n",
       "        vertical-align: middle;\n",
       "    }\n",
       "\n",
       "    .dataframe tbody tr th {\n",
       "        vertical-align: top;\n",
       "    }\n",
       "\n",
       "    .dataframe thead th {\n",
       "        text-align: right;\n",
       "    }\n",
       "</style>\n",
       "<table border=\"1\" class=\"dataframe\">\n",
       "  <thead>\n",
       "    <tr style=\"text-align: right;\">\n",
       "      <th></th>\n",
       "      <th>Activity</th>\n",
       "      <th>D1</th>\n",
       "      <th>D2</th>\n",
       "      <th>D3</th>\n",
       "      <th>D4</th>\n",
       "      <th>D5</th>\n",
       "      <th>D6</th>\n",
       "      <th>D7</th>\n",
       "      <th>D8</th>\n",
       "      <th>D9</th>\n",
       "      <th>...</th>\n",
       "      <th>D1767</th>\n",
       "      <th>D1768</th>\n",
       "      <th>D1769</th>\n",
       "      <th>D1770</th>\n",
       "      <th>D1771</th>\n",
       "      <th>D1772</th>\n",
       "      <th>D1773</th>\n",
       "      <th>D1774</th>\n",
       "      <th>D1775</th>\n",
       "      <th>D1776</th>\n",
       "    </tr>\n",
       "  </thead>\n",
       "  <tbody>\n",
       "    <tr>\n",
       "      <th>0</th>\n",
       "      <td>1</td>\n",
       "      <td>0.000000</td>\n",
       "      <td>0.497009</td>\n",
       "      <td>0.10</td>\n",
       "      <td>0.0</td>\n",
       "      <td>0.132956</td>\n",
       "      <td>0.678031</td>\n",
       "      <td>0.273166</td>\n",
       "      <td>0.585445</td>\n",
       "      <td>0.743663</td>\n",
       "      <td>...</td>\n",
       "      <td>0</td>\n",
       "      <td>0</td>\n",
       "      <td>0</td>\n",
       "      <td>0</td>\n",
       "      <td>0</td>\n",
       "      <td>0</td>\n",
       "      <td>0</td>\n",
       "      <td>0</td>\n",
       "      <td>0</td>\n",
       "      <td>0</td>\n",
       "    </tr>\n",
       "    <tr>\n",
       "      <th>1</th>\n",
       "      <td>1</td>\n",
       "      <td>0.366667</td>\n",
       "      <td>0.606291</td>\n",
       "      <td>0.05</td>\n",
       "      <td>0.0</td>\n",
       "      <td>0.111209</td>\n",
       "      <td>0.803455</td>\n",
       "      <td>0.106105</td>\n",
       "      <td>0.411754</td>\n",
       "      <td>0.836582</td>\n",
       "      <td>...</td>\n",
       "      <td>1</td>\n",
       "      <td>1</td>\n",
       "      <td>1</td>\n",
       "      <td>1</td>\n",
       "      <td>0</td>\n",
       "      <td>1</td>\n",
       "      <td>0</td>\n",
       "      <td>0</td>\n",
       "      <td>1</td>\n",
       "      <td>0</td>\n",
       "    </tr>\n",
       "    <tr>\n",
       "      <th>2</th>\n",
       "      <td>1</td>\n",
       "      <td>0.033300</td>\n",
       "      <td>0.480124</td>\n",
       "      <td>0.00</td>\n",
       "      <td>0.0</td>\n",
       "      <td>0.209791</td>\n",
       "      <td>0.610350</td>\n",
       "      <td>0.356453</td>\n",
       "      <td>0.517720</td>\n",
       "      <td>0.679051</td>\n",
       "      <td>...</td>\n",
       "      <td>0</td>\n",
       "      <td>0</td>\n",
       "      <td>0</td>\n",
       "      <td>0</td>\n",
       "      <td>0</td>\n",
       "      <td>0</td>\n",
       "      <td>0</td>\n",
       "      <td>0</td>\n",
       "      <td>0</td>\n",
       "      <td>0</td>\n",
       "    </tr>\n",
       "    <tr>\n",
       "      <th>3</th>\n",
       "      <td>1</td>\n",
       "      <td>0.000000</td>\n",
       "      <td>0.538825</td>\n",
       "      <td>0.00</td>\n",
       "      <td>0.5</td>\n",
       "      <td>0.196344</td>\n",
       "      <td>0.724230</td>\n",
       "      <td>0.235606</td>\n",
       "      <td>0.288764</td>\n",
       "      <td>0.805110</td>\n",
       "      <td>...</td>\n",
       "      <td>0</td>\n",
       "      <td>0</td>\n",
       "      <td>0</td>\n",
       "      <td>0</td>\n",
       "      <td>0</td>\n",
       "      <td>0</td>\n",
       "      <td>0</td>\n",
       "      <td>0</td>\n",
       "      <td>0</td>\n",
       "      <td>0</td>\n",
       "    </tr>\n",
       "    <tr>\n",
       "      <th>4</th>\n",
       "      <td>0</td>\n",
       "      <td>0.100000</td>\n",
       "      <td>0.517794</td>\n",
       "      <td>0.00</td>\n",
       "      <td>0.0</td>\n",
       "      <td>0.494734</td>\n",
       "      <td>0.781422</td>\n",
       "      <td>0.154361</td>\n",
       "      <td>0.303809</td>\n",
       "      <td>0.812646</td>\n",
       "      <td>...</td>\n",
       "      <td>0</td>\n",
       "      <td>0</td>\n",
       "      <td>0</td>\n",
       "      <td>0</td>\n",
       "      <td>0</td>\n",
       "      <td>0</td>\n",
       "      <td>0</td>\n",
       "      <td>0</td>\n",
       "      <td>0</td>\n",
       "      <td>0</td>\n",
       "    </tr>\n",
       "    <tr>\n",
       "      <th>...</th>\n",
       "      <td>...</td>\n",
       "      <td>...</td>\n",
       "      <td>...</td>\n",
       "      <td>...</td>\n",
       "      <td>...</td>\n",
       "      <td>...</td>\n",
       "      <td>...</td>\n",
       "      <td>...</td>\n",
       "      <td>...</td>\n",
       "      <td>...</td>\n",
       "      <td>...</td>\n",
       "      <td>...</td>\n",
       "      <td>...</td>\n",
       "      <td>...</td>\n",
       "      <td>...</td>\n",
       "      <td>...</td>\n",
       "      <td>...</td>\n",
       "      <td>...</td>\n",
       "      <td>...</td>\n",
       "      <td>...</td>\n",
       "      <td>...</td>\n",
       "    </tr>\n",
       "    <tr>\n",
       "      <th>3746</th>\n",
       "      <td>1</td>\n",
       "      <td>0.033300</td>\n",
       "      <td>0.506409</td>\n",
       "      <td>0.10</td>\n",
       "      <td>0.0</td>\n",
       "      <td>0.209887</td>\n",
       "      <td>0.633426</td>\n",
       "      <td>0.297659</td>\n",
       "      <td>0.376124</td>\n",
       "      <td>0.727093</td>\n",
       "      <td>...</td>\n",
       "      <td>0</td>\n",
       "      <td>0</td>\n",
       "      <td>0</td>\n",
       "      <td>0</td>\n",
       "      <td>0</td>\n",
       "      <td>0</td>\n",
       "      <td>0</td>\n",
       "      <td>0</td>\n",
       "      <td>0</td>\n",
       "      <td>0</td>\n",
       "    </tr>\n",
       "    <tr>\n",
       "      <th>3747</th>\n",
       "      <td>1</td>\n",
       "      <td>0.133333</td>\n",
       "      <td>0.651023</td>\n",
       "      <td>0.15</td>\n",
       "      <td>0.0</td>\n",
       "      <td>0.151154</td>\n",
       "      <td>0.766505</td>\n",
       "      <td>0.170876</td>\n",
       "      <td>0.404546</td>\n",
       "      <td>0.787935</td>\n",
       "      <td>...</td>\n",
       "      <td>0</td>\n",
       "      <td>0</td>\n",
       "      <td>1</td>\n",
       "      <td>0</td>\n",
       "      <td>1</td>\n",
       "      <td>0</td>\n",
       "      <td>1</td>\n",
       "      <td>0</td>\n",
       "      <td>0</td>\n",
       "      <td>0</td>\n",
       "    </tr>\n",
       "    <tr>\n",
       "      <th>3748</th>\n",
       "      <td>0</td>\n",
       "      <td>0.200000</td>\n",
       "      <td>0.520564</td>\n",
       "      <td>0.00</td>\n",
       "      <td>0.0</td>\n",
       "      <td>0.179949</td>\n",
       "      <td>0.768785</td>\n",
       "      <td>0.177341</td>\n",
       "      <td>0.471179</td>\n",
       "      <td>0.872241</td>\n",
       "      <td>...</td>\n",
       "      <td>0</td>\n",
       "      <td>0</td>\n",
       "      <td>0</td>\n",
       "      <td>0</td>\n",
       "      <td>0</td>\n",
       "      <td>0</td>\n",
       "      <td>0</td>\n",
       "      <td>0</td>\n",
       "      <td>0</td>\n",
       "      <td>0</td>\n",
       "    </tr>\n",
       "    <tr>\n",
       "      <th>3749</th>\n",
       "      <td>1</td>\n",
       "      <td>0.100000</td>\n",
       "      <td>0.765646</td>\n",
       "      <td>0.00</td>\n",
       "      <td>0.0</td>\n",
       "      <td>0.536954</td>\n",
       "      <td>0.634936</td>\n",
       "      <td>0.342713</td>\n",
       "      <td>0.447162</td>\n",
       "      <td>0.672689</td>\n",
       "      <td>...</td>\n",
       "      <td>0</td>\n",
       "      <td>0</td>\n",
       "      <td>0</td>\n",
       "      <td>0</td>\n",
       "      <td>0</td>\n",
       "      <td>0</td>\n",
       "      <td>0</td>\n",
       "      <td>0</td>\n",
       "      <td>0</td>\n",
       "      <td>0</td>\n",
       "    </tr>\n",
       "    <tr>\n",
       "      <th>3750</th>\n",
       "      <td>0</td>\n",
       "      <td>0.133333</td>\n",
       "      <td>0.533952</td>\n",
       "      <td>0.00</td>\n",
       "      <td>0.0</td>\n",
       "      <td>0.347966</td>\n",
       "      <td>0.757971</td>\n",
       "      <td>0.230667</td>\n",
       "      <td>0.272652</td>\n",
       "      <td>0.854116</td>\n",
       "      <td>...</td>\n",
       "      <td>0</td>\n",
       "      <td>0</td>\n",
       "      <td>0</td>\n",
       "      <td>0</td>\n",
       "      <td>0</td>\n",
       "      <td>0</td>\n",
       "      <td>0</td>\n",
       "      <td>0</td>\n",
       "      <td>0</td>\n",
       "      <td>0</td>\n",
       "    </tr>\n",
       "  </tbody>\n",
       "</table>\n",
       "<p>3751 rows × 1777 columns</p>\n",
       "</div>"
      ],
      "text/plain": [
       "      Activity        D1        D2    D3   D4        D5        D6        D7  \\\n",
       "0            1  0.000000  0.497009  0.10  0.0  0.132956  0.678031  0.273166   \n",
       "1            1  0.366667  0.606291  0.05  0.0  0.111209  0.803455  0.106105   \n",
       "2            1  0.033300  0.480124  0.00  0.0  0.209791  0.610350  0.356453   \n",
       "3            1  0.000000  0.538825  0.00  0.5  0.196344  0.724230  0.235606   \n",
       "4            0  0.100000  0.517794  0.00  0.0  0.494734  0.781422  0.154361   \n",
       "...        ...       ...       ...   ...  ...       ...       ...       ...   \n",
       "3746         1  0.033300  0.506409  0.10  0.0  0.209887  0.633426  0.297659   \n",
       "3747         1  0.133333  0.651023  0.15  0.0  0.151154  0.766505  0.170876   \n",
       "3748         0  0.200000  0.520564  0.00  0.0  0.179949  0.768785  0.177341   \n",
       "3749         1  0.100000  0.765646  0.00  0.0  0.536954  0.634936  0.342713   \n",
       "3750         0  0.133333  0.533952  0.00  0.0  0.347966  0.757971  0.230667   \n",
       "\n",
       "            D8        D9  ...  D1767  D1768  D1769  D1770  D1771  D1772  \\\n",
       "0     0.585445  0.743663  ...      0      0      0      0      0      0   \n",
       "1     0.411754  0.836582  ...      1      1      1      1      0      1   \n",
       "2     0.517720  0.679051  ...      0      0      0      0      0      0   \n",
       "3     0.288764  0.805110  ...      0      0      0      0      0      0   \n",
       "4     0.303809  0.812646  ...      0      0      0      0      0      0   \n",
       "...        ...       ...  ...    ...    ...    ...    ...    ...    ...   \n",
       "3746  0.376124  0.727093  ...      0      0      0      0      0      0   \n",
       "3747  0.404546  0.787935  ...      0      0      1      0      1      0   \n",
       "3748  0.471179  0.872241  ...      0      0      0      0      0      0   \n",
       "3749  0.447162  0.672689  ...      0      0      0      0      0      0   \n",
       "3750  0.272652  0.854116  ...      0      0      0      0      0      0   \n",
       "\n",
       "      D1773  D1774  D1775  D1776  \n",
       "0         0      0      0      0  \n",
       "1         0      0      1      0  \n",
       "2         0      0      0      0  \n",
       "3         0      0      0      0  \n",
       "4         0      0      0      0  \n",
       "...     ...    ...    ...    ...  \n",
       "3746      0      0      0      0  \n",
       "3747      1      0      0      0  \n",
       "3748      0      0      0      0  \n",
       "3749      0      0      0      0  \n",
       "3750      0      0      0      0  \n",
       "\n",
       "[3751 rows x 1777 columns]"
      ]
     },
     "execution_count": 2,
     "metadata": {},
     "output_type": "execute_result"
    }
   ],
   "source": [
    "data = pd.read_csv('data/_train_sem09 (1).csv')\n",
    "data"
   ]
  },
  {
   "cell_type": "code",
   "execution_count": 3,
   "metadata": {},
   "outputs": [],
   "source": [
    "RANDOM_STATE = 42\n",
    "MAX_ITER = 50\n",
    "CV = 5\n",
    "\n",
    "warnings.filterwarnings('ignore')"
   ]
  },
  {
   "cell_type": "markdown",
   "metadata": {},
   "source": [
    "**Проверим данные на сбалансированность**"
   ]
  },
  {
   "cell_type": "code",
   "execution_count": 4,
   "metadata": {},
   "outputs": [
    {
     "data": {
      "image/png": "[encoded data removed]",
      "text/plain": [
       "<Figure size 576x396 with 1 Axes>"
      ]
     },
     "metadata": {},
     "output_type": "display_data"
    }
   ],
   "source": [
    "data['Activity'].value_counts().plot(kind='bar');"
   ]
  },
  {
   "cell_type": "markdown",
   "metadata": {},
   "source": [
    "Дисбаланс выборки отсутсвует"
   ]
  },
  {
   "cell_type": "markdown",
   "metadata": {},
   "source": [
    "# Подготовка данных к обучению"
   ]
  },
  {
   "cell_type": "markdown",
   "metadata": {},
   "source": [
    "**Создаем матрицу наблюдений X и вектор ответов y**"
   ]
  },
  {
   "cell_type": "code",
   "execution_count": 5,
   "metadata": {},
   "outputs": [],
   "source": [
    "X = data.drop(['Activity'], axis=1)\n",
    "y = data['Activity']"
   ]
  },
  {
   "cell_type": "markdown",
   "metadata": {},
   "source": [
    "**Разделяем выборку на тренировочную и тестовую в соотношении 80/20**"
   ]
  },
  {
   "cell_type": "code",
   "execution_count": 6,
   "metadata": {},
   "outputs": [],
   "source": [
    "X_train, X_test, y_train, y_test = train_test_split(X, y, random_state=RANDOM_STATE, test_size=0.2)"
   ]
  },
  {
   "cell_type": "markdown",
   "metadata": {},
   "source": [
    "# Фиксация метрик без дополнительной настройки модели."
   ]
  },
  {
   "cell_type": "markdown",
   "metadata": {},
   "source": [
    "**Логистическая регрессия:**"
   ]
  },
  {
   "cell_type": "code",
   "execution_count": 7,
   "metadata": {},
   "outputs": [
    {
     "name": "stdout",
     "output_type": "stream",
     "text": [
      "CPU times: total: 2.77 s\n",
      "Wall time: 2.83 s\n",
      "f1_score на обучающей выборке (без настроек гиперпараметров): 0.88\n",
      "f1_score на тестовой выборке (без настроек гиперпараметров): 0.79\n"
     ]
    }
   ],
   "source": [
    "log_reg = linear_model.LogisticRegression(max_iter=MAX_ITER)\n",
    "\n",
    "%time log_reg.fit(X_train, y_train)\n",
    "\n",
    "y_train_pred_lr = log_reg.predict(X_train)\n",
    "print(f'f1_score на обучающей выборке (без настроек гиперпараметров): {f1_score(y_train, y_train_pred_lr).round(2)}')\n",
    "\n",
    "y_test_pred_lr = log_reg.predict(X_test)\n",
    "print(f'f1_score на тестовой выборке (без настроек гиперпараметров): {f1_score(y_test, y_test_pred_lr).round(2)}')"
   ]
  },
  {
   "cell_type": "markdown",
   "metadata": {},
   "source": [
    "**Случайный лес**"
   ]
  },
  {
   "cell_type": "code",
   "execution_count": 8,
   "metadata": {},
   "outputs": [
    {
     "name": "stdout",
     "output_type": "stream",
     "text": [
      "CPU times: total: 2.42 s\n",
      "Wall time: 2.45 s\n",
      "f1_score на обучающей выборке (без настроек гиперпараметров): 1.0\n",
      "f1_score на тестовой выборке (без настроек гиперпараметров): 0.83\n"
     ]
    }
   ],
   "source": [
    "rf = ensemble.RandomForestClassifier(random_state=RANDOM_STATE)\n",
    "\n",
    "%time rf.fit(X_train, y_train)\n",
    "\n",
    "y_train_pred_rf = rf.predict(X_train)\n",
    "print(f'f1_score на обучающей выборке (без настроек гиперпараметров): {f1_score(y_train, y_train_pred_rf).round(2)}')\n",
    "\n",
    "y_test_pred_rf = rf.predict(X_test)\n",
    "print(f'f1_score на тестовой выборке (без настроек гиперпараметров): {f1_score(y_test, y_test_pred_rf).round(2)}')"
   ]
  },
  {
   "cell_type": "markdown",
   "metadata": {},
   "source": [
    "# Подбор гиперпараметров"
   ]
  },
  {
   "cell_type": "markdown",
   "metadata": {},
   "source": [
    "## GridSearchCV"
   ]
  },
  {
   "cell_type": "markdown",
   "metadata": {},
   "source": [
    "**Логистическая регрессия**"
   ]
  },
  {
   "cell_type": "code",
   "execution_count": 9,
   "metadata": {},
   "outputs": [
    {
     "name": "stdout",
     "output_type": "stream",
     "text": [
      "CPU times: total: 5.55 s\n",
      "Wall time: 39.5 s\n",
      "f1_score на обучающей выборке: 0.88\n",
      "f1_score на тестовой выборке: 0.79\n",
      "Наилучшие значения гиперпараметров: {'penalty': 'l2', 'solver': 'saga'}\n"
     ]
    }
   ],
   "source": [
    "param_grid = {'penalty': ['l2', 'none'] ,\n",
    "              'solver': ['lbfgs', 'saga'],\n",
    "              }\n",
    "\n",
    "grid_search = GridSearchCV(\n",
    "    estimator = linear_model.LogisticRegression(\n",
    "        random_state = RANDOM_STATE,\n",
    "        max_iter = MAX_ITER\n",
    "    ), \n",
    "    param_grid = param_grid, \n",
    "    cv = CV, \n",
    "    n_jobs = -1\n",
    ")\n",
    "\n",
    "%time grid_search.fit(X_train, y_train)\n",
    "\n",
    "y_train_pred_lr = log_reg.predict(X_train)\n",
    "print(f'f1_score на обучающей выборке: {f1_score(y_train, y_train_pred_lr).round(2)}')\n",
    "\n",
    "y_test_pred_lr = log_reg.predict(X_test)\n",
    "print(f'f1_score на тестовой выборке: {f1_score(y_test, y_test_pred_lr).round(2)}')\n",
    "\n",
    "print(f\"Наилучшие значения гиперпараметров: {grid_search.best_params_}\")"
   ]
  },
  {
   "cell_type": "markdown",
   "metadata": {},
   "source": [
    "Метрика не изменилась, попробуем улучшить её добавлением силы регуляризации"
   ]
  },
  {
   "cell_type": "code",
   "execution_count": 10,
   "metadata": {},
   "outputs": [
    {
     "name": "stdout",
     "output_type": "stream",
     "text": [
      "CPU times: total: 3.11 s\n",
      "Wall time: 1min 12s\n",
      "f1_score на обучающей выборке: 0.88\n",
      "f1_score на тестовой выборке: 0.79\n",
      "Наилучшие значения гиперпараметров: {'C': 0.12, 'penalty': 'l2', 'solver': 'lbfgs'}\n"
     ]
    }
   ],
   "source": [
    "param_grid = {'penalty': ['l2'] ,\n",
    "              'solver': ['lbfgs'],\n",
    "              'C': np.linspace(0.01, 1, 10)\n",
    "              }\n",
    "\n",
    "grid_search = GridSearchCV(\n",
    "    estimator = linear_model.LogisticRegression(\n",
    "        random_state = RANDOM_STATE,\n",
    "        max_iter = MAX_ITER\n",
    "    ), \n",
    "    param_grid = param_grid, \n",
    "    cv = CV, \n",
    "    n_jobs = -1\n",
    ")\n",
    "\n",
    "%time grid_search.fit(X_train, y_train)\n",
    "\n",
    "y_train_pred_lr = log_reg.predict(X_train)\n",
    "print(f'f1_score на обучающей выборке: {f1_score(y_train, y_train_pred_lr).round(2)}')\n",
    "\n",
    "y_test_pred_lr = log_reg.predict(X_test)\n",
    "print(f'f1_score на тестовой выборке: {f1_score(y_test, y_test_pred_lr).round(2)}')\n",
    "\n",
    "print(f\"Наилучшие значения гиперпараметров: {grid_search.best_params_}\")"
   ]
  },
  {
   "cell_type": "code",
   "execution_count": 11,
   "metadata": {},
   "outputs": [
    {
     "name": "stdout",
     "output_type": "stream",
     "text": [
      "Наилучшая модель:\n",
      "LogisticRegression(C=0.12, max_iter=50, random_state=42)\n"
     ]
    }
   ],
   "source": [
    "print(f\"Наилучшая модель:\\n{grid_search.best_estimator_}\")"
   ]
  },
  {
   "cell_type": "markdown",
   "metadata": {},
   "source": [
    "**Случайный лес**"
   ]
  },
  {
   "cell_type": "code",
   "execution_count": 12,
   "metadata": {},
   "outputs": [
    {
     "name": "stdout",
     "output_type": "stream",
     "text": [
      "CPU times: total: 3.52 s\n",
      "Wall time: 1min 51s\n",
      "f1_score на обучающей выборке: 1.0\n",
      "f1_score на тестовой выборке: 0.83\n",
      "Наилучшие значения гиперпараметров: {'max_depth': 20, 'min_samples_leaf': 2, 'n_estimators': 100}\n"
     ]
    }
   ],
   "source": [
    "param_grid = {'n_estimators': list(range(50, 200, 50)),\n",
    "              'min_samples_leaf': [2, 5],\n",
    "              'max_depth': list(np.linspace(10, 20, 5, dtype=int))\n",
    "              }\n",
    "\n",
    "grid_search_rf = GridSearchCV(\n",
    "    estimator=ensemble.RandomForestClassifier(random_state=RANDOM_STATE), \n",
    "    param_grid=param_grid, \n",
    "    cv=CV, \n",
    "    n_jobs = -1\n",
    ")  \n",
    "\n",
    "%time grid_search_rf.fit(X_train, y_train)\n",
    "\n",
    "y_train_pred_rf = rf.predict(X_train)\n",
    "print(f'f1_score на обучающей выборке: {f1_score(y_train, y_train_pred_rf).round(2)}')\n",
    "\n",
    "y_test_pred_rf = rf.predict(X_test)\n",
    "print(f'f1_score на тестовой выборке: {f1_score(y_test, y_test_pred_rf).round(2)}')\n",
    "\n",
    "print(f\"Наилучшие значения гиперпараметров: {grid_search_rf.best_params_}\")"
   ]
  },
  {
   "cell_type": "markdown",
   "metadata": {},
   "source": [
    "## RandomizedSearchCV"
   ]
  },
  {
   "cell_type": "markdown",
   "metadata": {},
   "source": [
    "**Логистическая регрессия**"
   ]
  },
  {
   "cell_type": "code",
   "execution_count": 13,
   "metadata": {},
   "outputs": [
    {
     "name": "stdout",
     "output_type": "stream",
     "text": [
      "CPU times: total: 3.69 s\n",
      "Wall time: 1min 15s\n",
      "f1_score на обучающей выборке: 0.88\n",
      "f1_score на тестовой выборке: 0.79\n",
      "Наилучшие значения гиперпараметров: {'solver': 'lbfgs', 'penalty': 'l2', 'C': 0.23}\n"
     ]
    }
   ],
   "source": [
    "param_distributions = {'penalty': ['l2'] ,\n",
    "                       'solver': ['lbfgs', 'sag'],\n",
    "                       'C': list(np.linspace(0.01, 1, 10))}\n",
    "\n",
    "random_search = RandomizedSearchCV(\n",
    "        estimator=linear_model.LogisticRegression(\n",
    "        random_state=RANDOM_STATE, \n",
    "        max_iter=MAX_ITER), \n",
    "    param_distributions=param_distributions, \n",
    "    cv=CV, \n",
    "    n_iter=10, \n",
    "    n_jobs=-1\n",
    ")  \n",
    "\n",
    "%time random_search.fit(X_train, y_train)\n",
    "\n",
    "y_train_pred_lr = log_reg.predict(X_train)\n",
    "print(f'f1_score на обучающей выборке: {f1_score(y_train, y_train_pred_lr).round(2)}')\n",
    "\n",
    "y_test_pred_lr = log_reg.predict(X_test)\n",
    "print(f'f1_score на тестовой выборке: {f1_score(y_test, y_test_pred_lr).round(2)}')\n",
    "\n",
    "print(f\"Наилучшие значения гиперпараметров: {random_search.best_params_}\")"
   ]
  },
  {
   "cell_type": "markdown",
   "metadata": {},
   "source": [
    "**Случайный лес**"
   ]
  },
  {
   "cell_type": "code",
   "execution_count": 14,
   "metadata": {},
   "outputs": [
    {
     "name": "stdout",
     "output_type": "stream",
     "text": [
      "CPU times: total: 6.23 s\n",
      "Wall time: 1min 10s\n",
      "f1_score на обучающей выборке: 0.88\n",
      "f1_score на тестовой выборке: 0.79\n",
      "Наилучшие значения гиперпараметров: {'n_estimators': 250, 'min_samples_leaf': 2, 'max_depth': 30}\n"
     ]
    }
   ],
   "source": [
    "param_distributions = {'n_estimators': list(range(50, 300, 50)),\n",
    "              'min_samples_leaf': [2, 5, 7],\n",
    "              'max_depth': list(np.linspace(10, 30, 5, dtype=int))}\n",
    "            \n",
    "random_search_rf = RandomizedSearchCV(\n",
    "    estimator=ensemble.RandomForestClassifier(random_state=RANDOM_STATE), \n",
    "    param_distributions=param_distributions, \n",
    "    cv=CV,\n",
    "    n_iter=10, \n",
    "    n_jobs=-1\n",
    ") \n",
    "\n",
    "%time random_search_rf.fit(X_train, y_train)\n",
    "\n",
    "y_train_pred_rf = log_reg.predict(X_train)\n",
    "print(f'f1_score на обучающей выборке: {f1_score(y_train, y_train_pred_rf).round(2)}')\n",
    "\n",
    "y_test_pred_rf = log_reg.predict(X_test)\n",
    "print(f'f1_score на тестовой выборке: {f1_score(y_test, y_test_pred_rf).round(2)}')\n",
    "\n",
    "print(f\"Наилучшие значения гиперпараметров: {random_search_rf.best_params_}\")"
   ]
  },
  {
   "cell_type": "markdown",
   "metadata": {},
   "source": [
    "Попробуем улучшить метрику"
   ]
  },
  {
   "cell_type": "code",
   "execution_count": 15,
   "metadata": {},
   "outputs": [
    {
     "name": "stdout",
     "output_type": "stream",
     "text": [
      "CPU times: total: 7.3 s\n",
      "Wall time: 3min 22s\n",
      "f1_score на обучающей выборке: 0.88\n",
      "f1_score на тестовой выборке: 0.79\n",
      "Наилучшие значения гиперпараметров: {'n_estimators': 260, 'min_samples_leaf': 2, 'max_depth': 17, 'criterion': 'log_loss'}\n"
     ]
    }
   ],
   "source": [
    "param_distributions = {'n_estimators': list(range(50, 500, 10)),\n",
    "              'min_samples_leaf': list(np.linspace(2, 10, 7, dtype=int)),\n",
    "              'max_depth': list(np.linspace(10, 40, 5, dtype=int)),\n",
    "              'criterion': ['gini', 'entropy', 'log_loss']}\n",
    "            \n",
    "random_search_rf = RandomizedSearchCV(\n",
    "    estimator=ensemble.RandomForestClassifier(random_state=RANDOM_STATE), \n",
    "    param_distributions=param_distributions, \n",
    "    cv=CV,\n",
    "    n_iter=20, \n",
    "    n_jobs=-1\n",
    ") \n",
    "\n",
    "%time random_search_rf.fit(X_train, y_train)\n",
    "\n",
    "y_train_pred_rf = log_reg.predict(X_train)\n",
    "print(f'f1_score на обучающей выборке: {f1_score(y_train, y_train_pred_rf).round(2)}')\n",
    "\n",
    "y_test_pred_rf = log_reg.predict(X_test)\n",
    "print(f'f1_score на тестовой выборке: {f1_score(y_test, y_test_pred_rf).round(2)}')\n",
    "\n",
    "print(f\"Наилучшие значения гиперпараметров: {random_search_rf.best_params_}\")"
   ]
  },
  {
   "cell_type": "markdown",
   "metadata": {},
   "source": [
    "## Hyperopt"
   ]
  },
  {
   "cell_type": "markdown",
   "metadata": {},
   "source": [
    "**Логистическая регрессия**"
   ]
  },
  {
   "cell_type": "code",
   "execution_count": 16,
   "metadata": {},
   "outputs": [],
   "source": [
    "penaltys = ['l2', 'none']\n",
    "solvers = ['lbfgs', 'sag', 'saga']\n",
    "\n",
    "space={'penalty': hp.choice('penalty', penaltys),\n",
    "       'solver' : hp.choice('solver', solvers),\n",
    "       'C': hp.uniform('C', 0.01, 1)\n",
    "      }"
   ]
  },
  {
   "cell_type": "code",
   "execution_count": 17,
   "metadata": {},
   "outputs": [],
   "source": [
    "def hyperopt_lr(params, cv=CV, X=X_train, y=y_train, random_state=RANDOM_STATE):\n",
    "    \n",
    "    params = {'penalty': params['penalty'], \n",
    "              'solver': params['solver'], \n",
    "              'C': params['C']\n",
    "              }\n",
    "\n",
    "    model = linear_model.LogisticRegression(**params, random_state=RANDOM_STATE, max_iter=MAX_ITER)\n",
    "\n",
    "    model.fit(X, y)\n",
    "    \n",
    "    # score = f1_score(y, model.predict(X))\n",
    "    score = cross_val_score(model, X, y, cv=CV, scoring=\"f1\", n_jobs=-1).mean()\n",
    "\n",
    "    return -score"
   ]
  },
  {
   "cell_type": "code",
   "execution_count": 18,
   "metadata": {},
   "outputs": [
    {
     "name": "stdout",
     "output_type": "stream",
     "text": [
      "100%|██████████████████████████████████████████████████████████████████████████████████████████████████████████████████████████| 10/10 [02:06<00:00, 12.68s/trial, best loss: -0.7860656860417223]\n",
      "CPU times: total: 35.8 s\n",
      "Wall time: 2min 6s\n"
     ]
    }
   ],
   "source": [
    "%%time\n",
    "\n",
    "trials = Trials()\n",
    "\n",
    "best=fmin(hyperopt_lr,\n",
    "          space=space,\n",
    "          algo=tpe.suggest,\n",
    "          max_evals=10,\n",
    "          trials=trials,\n",
    "          rstate=np.random.default_rng(RANDOM_STATE)\n",
    "         )"
   ]
  },
  {
   "cell_type": "code",
   "execution_count": 19,
   "metadata": {},
   "outputs": [
    {
     "name": "stdout",
     "output_type": "stream",
     "text": [
      "f1_score на обучающей выборке: 0.85\n",
      "f1_score на тестовой выборке: 0.79\n",
      "Наилучшие значения гиперпараметров: {'C': 0.08292441519601887, 'penalty': 0, 'solver': 0}\n"
     ]
    }
   ],
   "source": [
    "model = linear_model.LogisticRegression(\n",
    "    random_state=RANDOM_STATE, \n",
    "    max_iter=MAX_ITER,\n",
    "    penalty=penaltys[best['penalty']],\n",
    "    solver=solvers[best['solver']],\n",
    "    C=best['C']\n",
    ")\n",
    "\n",
    "model.fit(X_train, y_train)\n",
    "\n",
    "y_train_pred_lr = model.predict(X_train)\n",
    "print(f'f1_score на обучающей выборке: {f1_score(y_train, y_train_pred_lr).round(2)}')\n",
    "\n",
    "y_test_pred_lr = model.predict(X_test)\n",
    "print(f'f1_score на тестовой выборке: {f1_score(y_test, y_test_pred_lr).round(2)}')\n",
    "\n",
    "print(f\"Наилучшие значения гиперпараметров: {best}\")"
   ]
  },
  {
   "cell_type": "code",
   "execution_count": 20,
   "metadata": {},
   "outputs": [
    {
     "data": {
      "image/png": "[encoded data removed]",
      "text/plain": [
       "<Figure size 576x648 with 4 Axes>"
      ]
     },
     "metadata": {},
     "output_type": "display_data"
    }
   ],
   "source": [
    "tpe_results=np.array([[x['result']['loss'],\n",
    "                      x['misc']['vals']['C'][0],\n",
    "                      x['misc']['vals']['solver'][0],\n",
    "                      x['misc']['vals']['penalty'][0]] for x in trials.trials])\n",
    "\n",
    "tpe_results_df=pd.DataFrame(tpe_results,\n",
    "                           columns=['score', 'C', 'solver', 'penalty'])\n",
    "\n",
    "tpe_results_df.plot(subplots=True,figsize=(8, 9));"
   ]
  },
  {
   "cell_type": "markdown",
   "metadata": {},
   "source": [
    "**Случайный лес**"
   ]
  },
  {
   "cell_type": "code",
   "execution_count": 21,
   "metadata": {},
   "outputs": [],
   "source": [
    "criterions = ['gini', 'entropy', 'log_loss']\n",
    "\n",
    "space={'n_estimators': hp.quniform('n_estimators', 100, 200, 1),\n",
    "       'max_depth' : hp.quniform('max_depth', 15, 26, 1),\n",
    "       'min_samples_leaf': hp.quniform('min_samples_leaf', 2, 10, 1),\n",
    "       'criterion': hp.choice('criterion', criterions)\n",
    "      }"
   ]
  },
  {
   "cell_type": "code",
   "execution_count": 22,
   "metadata": {},
   "outputs": [],
   "source": [
    "def hyperopt_rf(params, cv=5, X=X_train, y=y_train, random_state=RANDOM_STATE):\n",
    "    \n",
    "    params = {'n_estimators': int(params['n_estimators']), \n",
    "              'max_depth': int(params['max_depth']), \n",
    "             'min_samples_leaf': int(params['min_samples_leaf']), \n",
    "             'criterion': params['criterion']\n",
    "              }\n",
    "\n",
    "    model = ensemble.RandomForestClassifier(**params, random_state=RANDOM_STATE)\n",
    "    \n",
    "    model.fit(X, y)\n",
    "    \n",
    "    # score = metrics.f1_score(y, model.predict(X))\n",
    "    score = cross_val_score(model, X, y, cv=CV, scoring=\"f1\", n_jobs=-1).mean()\n",
    "    \n",
    "    return -score"
   ]
  },
  {
   "cell_type": "code",
   "execution_count": 23,
   "metadata": {},
   "outputs": [
    {
     "name": "stdout",
     "output_type": "stream",
     "text": [
      "CPU times: total: 0 ns\n",
      "Wall time: 0 ns\n",
      "100%|██████████████████████████████████████████████████████████████████████████████████████████████████████████████████████████| 10/10 [01:38<00:00,  9.86s/trial, best loss: -0.8107783775263364]\n",
      "Наилучшие значения гиперпараметров {'criterion': 1, 'max_depth': 22.0, 'min_samples_leaf': 3.0, 'n_estimators': 115.0}\n"
     ]
    }
   ],
   "source": [
    "%time\n",
    "\n",
    "trials = Trials()\n",
    "\n",
    "best=fmin(hyperopt_rf,\n",
    "          space=space,\n",
    "          algo=tpe.suggest,\n",
    "          max_evals=10,\n",
    "          trials=trials,\n",
    "          rstate=np.random.default_rng(RANDOM_STATE)\n",
    "         )\n",
    "\n",
    "print(\"Наилучшие значения гиперпараметров {}\".format(best))"
   ]
  },
  {
   "cell_type": "code",
   "execution_count": 24,
   "metadata": {},
   "outputs": [
    {
     "name": "stdout",
     "output_type": "stream",
     "text": [
      "f1_score на обучающей выборке: 0.98\n",
      "f1_score на тестовой выборке: 0.83\n",
      "Наилучшие значения гиперпараметров: {'criterion': 1, 'max_depth': 22.0, 'min_samples_leaf': 3.0, 'n_estimators': 115.0}\n"
     ]
    }
   ],
   "source": [
    "model = ensemble.RandomForestClassifier(\n",
    "    random_state=RANDOM_STATE, \n",
    "    n_estimators=int(best['n_estimators']),\n",
    "    max_depth=int(best['max_depth']),\n",
    "    min_samples_leaf=int(best['min_samples_leaf']),\n",
    "    criterion=criterions[best['criterion']]\n",
    ")\n",
    "\n",
    "model.fit(X_train, y_train)\n",
    "\n",
    "y_train_pred_rf = model.predict(X_train)\n",
    "print(f'f1_score на обучающей выборке: {f1_score(y_train, y_train_pred_rf).round(2)}')\n",
    "\n",
    "y_test_pred_rf = model.predict(X_test)\n",
    "print(f'f1_score на тестовой выборке: {f1_score(y_test, y_test_pred_rf).round(2)}')\n",
    "\n",
    "print(f\"Наилучшие значения гиперпараметров: {best}\")"
   ]
  },
  {
   "cell_type": "code",
   "execution_count": 25,
   "metadata": {},
   "outputs": [
    {
     "data": {
      "image/png": "[encoded data removed]",
      "text/plain": [
       "<Figure size 720x720 with 4 Axes>"
      ]
     },
     "metadata": {},
     "output_type": "display_data"
    }
   ],
   "source": [
    "tpe_results=np.array([[x['result']['loss'],\n",
    "                      x['misc']['vals']['max_depth'][0],\n",
    "                      x['misc']['vals']['n_estimators'][0],\n",
    "                      x['misc']['vals']['criterion'][0]] for x in trials.trials])\n",
    "\n",
    "tpe_results_df=pd.DataFrame(tpe_results,\n",
    "                           columns=['score', 'max_depth', 'n_estimators', 'criterion'])\n",
    "\n",
    "tpe_results_df.plot(subplots=True,figsize=(10, 10));"
   ]
  },
  {
   "cell_type": "markdown",
   "metadata": {},
   "source": [
    "## Optuna"
   ]
  },
  {
   "cell_type": "markdown",
   "metadata": {},
   "source": [
    "**Логистическая регрессия**"
   ]
  },
  {
   "cell_type": "code",
   "execution_count": 26,
   "metadata": {},
   "outputs": [],
   "source": [
    "def optuna_lr(trial):\n",
    "  penalty = trial.suggest_categorical('penalty', ['l2', 'none'])\n",
    "  solver = trial.suggest_categorical('solver', ['lbfgs', 'sag', 'saga'])\n",
    "  C = trial.suggest_loguniform('C', 1e-2, 1)\n",
    "\n",
    "  model = linear_model.LogisticRegression(penalty=penalty,\n",
    "                                          solver=solver,\n",
    "                                          C=C,\n",
    "                                          random_state=RANDOM_STATE)\n",
    "\n",
    "  model.fit(X_train, y_train)\n",
    "  \n",
    "  # score = metrics.f1_score(y_train, model.predict(X_train))\n",
    "  score = cross_val_score(model, X, y, cv=CV, scoring=\"f1\", n_jobs=-1).mean()\n",
    "\n",
    "  return score"
   ]
  },
  {
   "cell_type": "code",
   "execution_count": 27,
   "metadata": {},
   "outputs": [
    {
     "name": "stderr",
     "output_type": "stream",
     "text": [
      "\u001b[32m[I 2022-09-19 11:43:10,630]\u001b[0m A new study created in memory with name: LogisticRegression\u001b[0m\n",
      "\u001b[32m[I 2022-09-19 11:43:42,096]\u001b[0m Trial 0 finished with value: 0.7708390231147334 and parameters: {'penalty': 'none', 'solver': 'sag', 'C': 0.040374659722002174}. Best is trial 0 with value: 0.7708390231147334.\u001b[0m\n",
      "\u001b[32m[I 2022-09-19 11:44:14,835]\u001b[0m Trial 1 finished with value: 0.7833321599991047 and parameters: {'penalty': 'l2', 'solver': 'saga', 'C': 0.1333554981697506}. Best is trial 1 with value: 0.7833321599991047.\u001b[0m\n",
      "\u001b[32m[I 2022-09-19 11:44:48,481]\u001b[0m Trial 2 finished with value: 0.7778286111586445 and parameters: {'penalty': 'l2', 'solver': 'saga', 'C': 0.7231842778549373}. Best is trial 1 with value: 0.7833321599991047.\u001b[0m\n",
      "\u001b[32m[I 2022-09-19 11:45:12,036]\u001b[0m Trial 3 finished with value: 0.7583522396374635 and parameters: {'penalty': 'none', 'solver': 'lbfgs', 'C': 0.11275046623787136}. Best is trial 1 with value: 0.7833321599991047.\u001b[0m\n",
      "\u001b[32m[I 2022-09-19 11:45:45,442]\u001b[0m Trial 4 finished with value: 0.790672472410397 and parameters: {'penalty': 'l2', 'solver': 'sag', 'C': 0.026146101008062875}. Best is trial 4 with value: 0.790672472410397.\u001b[0m\n",
      "\u001b[32m[I 2022-09-19 11:46:17,954]\u001b[0m Trial 5 finished with value: 0.790207637843156 and parameters: {'penalty': 'l2', 'solver': 'saga', 'C': 0.021464736391901898}. Best is trial 4 with value: 0.790672472410397.\u001b[0m\n",
      "\u001b[32m[I 2022-09-19 11:46:49,303]\u001b[0m Trial 6 finished with value: 0.7708390231147334 and parameters: {'penalty': 'none', 'solver': 'sag', 'C': 0.6089074150685488}. Best is trial 4 with value: 0.790672472410397.\u001b[0m\n",
      "\u001b[32m[I 2022-09-19 11:47:24,865]\u001b[0m Trial 7 finished with value: 0.7759958730887874 and parameters: {'penalty': 'none', 'solver': 'saga', 'C': 0.05496130811755739}. Best is trial 4 with value: 0.790672472410397.\u001b[0m\n",
      "\u001b[32m[I 2022-09-19 11:47:59,445]\u001b[0m Trial 8 finished with value: 0.7759958730887874 and parameters: {'penalty': 'none', 'solver': 'saga', 'C': 0.035437633814741964}. Best is trial 4 with value: 0.790672472410397.\u001b[0m\n",
      "\u001b[32m[I 2022-09-19 11:48:30,925]\u001b[0m Trial 9 finished with value: 0.7788404438185378 and parameters: {'penalty': 'l2', 'solver': 'sag', 'C': 0.4261026749047524}. Best is trial 4 with value: 0.790672472410397.\u001b[0m\n"
     ]
    },
    {
     "name": "stdout",
     "output_type": "stream",
     "text": [
      "CPU times: total: 1min 14s\n",
      "Wall time: 5min 20s\n"
     ]
    }
   ],
   "source": [
    "%%time\n",
    "\n",
    "study = optuna.create_study(study_name=\"LogisticRegression\", direction=\"maximize\")\n",
    "\n",
    "study.optimize(optuna_lr, n_trials=10)"
   ]
  },
  {
   "cell_type": "code",
   "execution_count": 28,
   "metadata": {},
   "outputs": [
    {
     "name": "stdout",
     "output_type": "stream",
     "text": [
      "f1_score на обучающей выборке: 0.83\n",
      "f1_score на тестовой выборке: 0.8\n",
      "Наилучшие значения гиперпараметров {'penalty': 'l2', 'solver': 'sag', 'C': 0.026146101008062875}\n"
     ]
    }
   ],
   "source": [
    "model = linear_model.LogisticRegression(**study.best_params, random_state=RANDOM_STATE)\n",
    "model.fit(X_train, y_train)\n",
    "\n",
    "y_train_pred_lr = model.predict(X_train)\n",
    "print(f'f1_score на обучающей выборке: {f1_score(y_train, y_train_pred_lr).round(2)}')\n",
    "\n",
    "y_test_pred_lr = model.predict(X_test)\n",
    "print(f'f1_score на тестовой выборке: {f1_score(y_test, y_test_pred_lr).round(2)}')\n",
    "\n",
    "print(f\"Наилучшие значения гиперпараметров {study.best_params}\")"
   ]
  },
  {
   "cell_type": "markdown",
   "metadata": {},
   "source": [
    "**Случайный лес**"
   ]
  },
  {
   "cell_type": "code",
   "execution_count": 29,
   "metadata": {},
   "outputs": [],
   "source": [
    "def optuna_rf(trial):\n",
    "    \n",
    "  n_estimators = trial.suggest_int('n_estimators', 100, 200, 1)\n",
    "  max_depth = trial.suggest_int('max_depth', 10, 30, 1)\n",
    "  min_samples_leaf = trial.suggest_int('min_samples_leaf', 2, 10, 1)\n",
    "  criterion = trial.suggest_categorical('criterion', ['gini', 'entropy', 'log_loss'])\n",
    "\n",
    "  model = ensemble.RandomForestClassifier(n_estimators=n_estimators,\n",
    "                                          max_depth=max_depth,\n",
    "                                          min_samples_leaf=min_samples_leaf,\n",
    "                                          random_state=RANDOM_STATE)\n",
    "\n",
    "  model.fit(X_train, y_train)\n",
    "  \n",
    "  # score = metrics.f1_score(y_train, model.predict(X_train))\n",
    "  score = cross_val_score(model, X, y, cv=CV, scoring=\"f1\", n_jobs=-1).mean()\n",
    "\n",
    "  return score"
   ]
  },
  {
   "cell_type": "code",
   "execution_count": 30,
   "metadata": {},
   "outputs": [
    {
     "name": "stderr",
     "output_type": "stream",
     "text": [
      "\u001b[32m[I 2022-09-19 11:48:39,094]\u001b[0m A new study created in memory with name: RandomForestClassifier\u001b[0m\n",
      "\u001b[32m[I 2022-09-19 11:48:47,711]\u001b[0m Trial 0 finished with value: 0.7908315902671662 and parameters: {'n_estimators': 157, 'max_depth': 10, 'min_samples_leaf': 10, 'criterion': 'entropy'}. Best is trial 0 with value: 0.7908315902671662.\u001b[0m\n",
      "\u001b[32m[I 2022-09-19 11:48:55,820]\u001b[0m Trial 1 finished with value: 0.8115298891894364 and parameters: {'n_estimators': 104, 'max_depth': 13, 'min_samples_leaf': 2, 'criterion': 'log_loss'}. Best is trial 1 with value: 0.8115298891894364.\u001b[0m\n",
      "\u001b[32m[I 2022-09-19 11:49:03,173]\u001b[0m Trial 2 finished with value: 0.7964904464338762 and parameters: {'n_estimators': 101, 'max_depth': 12, 'min_samples_leaf': 6, 'criterion': 'log_loss'}. Best is trial 1 with value: 0.8115298891894364.\u001b[0m\n",
      "\u001b[32m[I 2022-09-19 11:49:12,695]\u001b[0m Trial 3 finished with value: 0.806798829421315 and parameters: {'n_estimators': 114, 'max_depth': 18, 'min_samples_leaf': 6, 'criterion': 'log_loss'}. Best is trial 1 with value: 0.8115298891894364.\u001b[0m\n",
      "\u001b[32m[I 2022-09-19 11:49:23,236]\u001b[0m Trial 4 finished with value: 0.8138816023551321 and parameters: {'n_estimators': 124, 'max_depth': 19, 'min_samples_leaf': 3, 'criterion': 'entropy'}. Best is trial 4 with value: 0.8138816023551321.\u001b[0m\n",
      "\u001b[32m[I 2022-09-19 11:49:34,114]\u001b[0m Trial 5 finished with value: 0.8072155006092416 and parameters: {'n_estimators': 129, 'max_depth': 17, 'min_samples_leaf': 7, 'criterion': 'gini'}. Best is trial 4 with value: 0.8138816023551321.\u001b[0m\n",
      "\u001b[32m[I 2022-09-19 11:49:44,383]\u001b[0m Trial 6 finished with value: 0.8112750655056036 and parameters: {'n_estimators': 102, 'max_depth': 14, 'min_samples_leaf': 3, 'criterion': 'log_loss'}. Best is trial 4 with value: 0.8138816023551321.\u001b[0m\n",
      "\u001b[32m[I 2022-09-19 11:49:58,567]\u001b[0m Trial 7 finished with value: 0.8140949684666923 and parameters: {'n_estimators': 167, 'max_depth': 24, 'min_samples_leaf': 3, 'criterion': 'log_loss'}. Best is trial 7 with value: 0.8140949684666923.\u001b[0m\n",
      "\u001b[32m[I 2022-09-19 11:50:10,506]\u001b[0m Trial 8 finished with value: 0.8155071692141297 and parameters: {'n_estimators': 108, 'max_depth': 29, 'min_samples_leaf': 2, 'criterion': 'gini'}. Best is trial 8 with value: 0.8155071692141297.\u001b[0m\n",
      "\u001b[32m[I 2022-09-19 11:50:25,352]\u001b[0m Trial 9 finished with value: 0.8034980181829032 and parameters: {'n_estimators': 185, 'max_depth': 30, 'min_samples_leaf': 6, 'criterion': 'log_loss'}. Best is trial 8 with value: 0.8155071692141297.\u001b[0m\n"
     ]
    },
    {
     "name": "stdout",
     "output_type": "stream",
     "text": [
      "CPU times: total: 25.8 s\n",
      "Wall time: 1min 46s\n"
     ]
    }
   ],
   "source": [
    "%%time\n",
    "\n",
    "study = optuna.create_study(study_name=\"RandomForestClassifier\", direction=\"maximize\")\n",
    "\n",
    "study.optimize(optuna_rf, n_trials=10)"
   ]
  },
  {
   "cell_type": "code",
   "execution_count": 31,
   "metadata": {},
   "outputs": [
    {
     "name": "stdout",
     "output_type": "stream",
     "text": [
      "f1_score на обучающей выборке: 0.99\n",
      "f1_score на тестовой выборке: 0.82\n",
      "Наилучшие значения гиперпараметров {'n_estimators': 108, 'max_depth': 29, 'min_samples_leaf': 2, 'criterion': 'gini'}\n"
     ]
    }
   ],
   "source": [
    "model = ensemble.RandomForestClassifier(**study.best_params, random_state=RANDOM_STATE)\n",
    "model.fit(X_train, y_train)\n",
    "\n",
    "y_train_pred_rf = model.predict(X_train)\n",
    "print(f'f1_score на обучающей выборке: {f1_score(y_train, y_train_pred_rf).round(2)}')\n",
    "\n",
    "y_test_pred_rf = model.predict(X_test)\n",
    "print(f'f1_score на тестовой выборке: {f1_score(y_test, y_test_pred_rf).round(2)}')\n",
    "\n",
    "print(f\"Наилучшие значения гиперпараметров {study.best_params}\")"
   ]
  }
 ],
 "metadata": {
  "kernelspec": {
   "display_name": "Python 3 (ipykernel)",
   "language": "python",
   "name": "python3"
  },
  "language_info": {
   "codemirror_mode": {
    "name": "ipython",
    "version": 3
   },
   "file_extension": ".py",
   "mimetype": "text/x-python",
   "name": "python",
   "nbconvert_exporter": "python",
   "pygments_lexer": "ipython3",
   "version": "3.9.10"
  },
  "vscode": {
   "interpreter": {
    "hash": "6a50f7240a2038d609e57a1f7523e7acd01e636c6ac4354e2d92058f3fb497af"
   }
  }
 },
 "nbformat": 4,
 "nbformat_minor": 4
}
